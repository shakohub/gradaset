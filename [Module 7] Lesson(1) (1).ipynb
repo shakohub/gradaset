{
 "cells": [
  {
   "cell_type": "markdown",
   "metadata": {
    "collapsed": true
   },
   "source": [
    "## Module 7: Supervised Machine Learning (SML) and Linear Regression"
   ]
  },
  {
   "cell_type": "markdown",
   "metadata": {},
   "source": [
    "<b>What is Machine Learning?</b>\n",
    "\n",
    "Machine learning is the field of study that focuses on giving computers the ability to learn without being explicitly programmed. \n",
    "\n",
    "In Supervised Machine Learning (SML), data models - also known as algorithms - learn from labeled data. Learning the data includes understanding the patterns and relationships that exist within your dataset and between variables. Once the model understands the data - it is able to associate the patterns that were discovered to unlabeled data. In other words, the model takes information that it's learned and applies it to an environment where it isn't being directly told what to do - similar to a student who learns through lessons (examples and exercises where the correct answer is provided) and then is expected to apply what they've learned on a test (answers are not provided). Once your model has \"taken the test\", it is then up to you to grade it to determine how well your model performed. \n",
    "\n",
    "There are two types of SML algorithms: regression and classification. \n",
    "* <b>Regression</b> predicts continuous values (i.e. sales).\n",
    "* <b>Classification</b> predicts discrete outcomes (i.e. survived/died).\n",
    "\n",
    "***************************************\n",
    "\n",
    "<LEFT><img src='https://miro.medium.com/max/1164/1*589X2eXJJkatGRG-z-s_oA.png'></LEFT>\n",
    "***************************************\n",
    "\n",
    "Today's lesson will focus on Linear Regression. Not unlike Linear Regression with Statsmodels (Module 6), we are interested in creating a linear regression models that fits our data well. However, unlike Statsmodels, we aren't only interested in learning about the relationships within the dataset we have in front of us -- we are also interested in creating a linear regression model that can help us make predictions with data we don't yet have, or data we can anticipate getting in the future. To do this, there are several new steps that we will have to complete, including:\n",
    "* Cleaning up our data\n",
    "* Handling categorical variables\n",
    "* Dividing our data into two sets of data based on the dependent and independent variables\n",
    "* Determining the characteristics of our linear regression model\n",
    "* Splitting our data into subsets\n",
    "* Training our model\n",
    "* Testing our model\n",
    "* And finally, evaluating how well our model did at predicting outcomes\n",
    "***************************************\n",
    "Creating a linear regression model is typically done with the goal of making <b>acurate</b> predictions about your dependent variable. \n",
    "\n",
    "Using the data regarding student grades, we are hoping to predict the final grade of a student given various characteristics. Our goal is to not only better understand the relationship between student characteristics and their final grade, but to create a model that can accurately predict the grade a student will receive given several other factors. \n",
    "\n",
    "If a teacher created a model, based on historic data, that could accurately predict final grade - they could input student information into the model during the middle of the term to predict how well a student is expected to perform. With this information, they can intervene early if a student is on the path to performing poorly in the course. \n",
    "\n",
    "This is only one example, but forcasting future trends/predicting specific outcomes is the main objective with linear regression. However, the full utility of your model will not be made evident immediately - instead of working through all of the uses of your model, this lesson is going to cover how to create an accuarate linear regression model that fits with your data.\n",
    "***************************************"
   ]
  },
  {
   "cell_type": "markdown",
   "metadata": {},
   "source": [
    "***************************************\n",
    "<b>Step 1: Importing necessary libraries and data</b>\n",
    "***************************************"
   ]
  },
  {
   "cell_type": "code",
   "execution_count": 1,
   "metadata": {},
   "outputs": [
    {
     "data": {
      "text/html": [
       "<div>\n",
       "<style scoped>\n",
       "    .dataframe tbody tr th:only-of-type {\n",
       "        vertical-align: middle;\n",
       "    }\n",
       "\n",
       "    .dataframe tbody tr th {\n",
       "        vertical-align: top;\n",
       "    }\n",
       "\n",
       "    .dataframe thead th {\n",
       "        text-align: right;\n",
       "    }\n",
       "</style>\n",
       "<table border=\"1\" class=\"dataframe\">\n",
       "  <thead>\n",
       "    <tr style=\"text-align: right;\">\n",
       "      <th></th>\n",
       "      <th>gender</th>\n",
       "      <th>age</th>\n",
       "      <th>exercise</th>\n",
       "      <th>hours</th>\n",
       "      <th>grade</th>\n",
       "    </tr>\n",
       "  </thead>\n",
       "  <tbody>\n",
       "    <tr>\n",
       "      <td>0</td>\n",
       "      <td>female</td>\n",
       "      <td>17</td>\n",
       "      <td>3</td>\n",
       "      <td>10</td>\n",
       "      <td>82.4</td>\n",
       "    </tr>\n",
       "    <tr>\n",
       "      <td>1</td>\n",
       "      <td>male</td>\n",
       "      <td>18</td>\n",
       "      <td>4</td>\n",
       "      <td>4</td>\n",
       "      <td>78.2</td>\n",
       "    </tr>\n",
       "    <tr>\n",
       "      <td>2</td>\n",
       "      <td>male</td>\n",
       "      <td>18</td>\n",
       "      <td>5</td>\n",
       "      <td>9</td>\n",
       "      <td>79.3</td>\n",
       "    </tr>\n",
       "    <tr>\n",
       "      <td>3</td>\n",
       "      <td>female</td>\n",
       "      <td>14</td>\n",
       "      <td>2</td>\n",
       "      <td>7</td>\n",
       "      <td>83.2</td>\n",
       "    </tr>\n",
       "    <tr>\n",
       "      <td>4</td>\n",
       "      <td>female</td>\n",
       "      <td>18</td>\n",
       "      <td>4</td>\n",
       "      <td>15</td>\n",
       "      <td>87.4</td>\n",
       "    </tr>\n",
       "  </tbody>\n",
       "</table>\n",
       "</div>"
      ],
      "text/plain": [
       "   gender  age  exercise  hours  grade\n",
       "0  female   17         3     10   82.4\n",
       "1    male   18         4      4   78.2\n",
       "2    male   18         5      9   79.3\n",
       "3  female   14         2      7   83.2\n",
       "4  female   18         4     15   87.4"
      ]
     },
     "execution_count": 1,
     "metadata": {},
     "output_type": "execute_result"
    }
   ],
   "source": [
    "# libraries to work with data\n",
    "import pandas as pd\n",
    "import numpy as np\n",
    "\n",
    "# libraries to visualize data\n",
    "import seaborn as sns\n",
    "from matplotlib import pyplot as plt\n",
    "%matplotlib inline\n",
    "\n",
    "# statsmodels linear regression library\n",
    "import statsmodels.formula.api as smf\n",
    "\n",
    "# import the student grade dataset\n",
    "df = pd.read_csv(\"gradedata2.csv\")\n",
    "\n",
    "# drop the variables that you won't include in model\n",
    "df = df.drop([\"fname\",\"lname\",\"address\"], axis = 1)\n",
    "\n",
    "# review the first few rows of your data\n",
    "df.head()"
   ]
  },
  {
   "cell_type": "markdown",
   "metadata": {},
   "source": [
    "***************************************\n",
    "<b>Step 2: Handling categorical variables</b>\n",
    "***************************************\n",
    "When you use the sklearn linear regression functions - you <u>cannot</u> include categorical variables in your model unless you convert them to numeric variables. \n",
    "\n",
    "Dummy variables convert categorical variables into a series of zeros and ones, which makes working with these variables a lot easier. When you convert your variables to dummy variables, \"1\" represents the presence of a factor and \"0\" represents that absence of a factor. Converting a variable in this manner allows us to statistically treat categorical variables like numeric variables. It is good practice to convert ALL your categorical variables to dummy variables prior to developing your regression model.\n",
    "\n",
    "When you create dummy variables, you will exclude one category from your dataset. This will automatically create a reference category for your variables.\n",
    "***************************************"
   ]
  },
  {
   "cell_type": "code",
   "execution_count": 2,
   "metadata": {},
   "outputs": [
    {
     "data": {
      "text/html": [
       "<div>\n",
       "<style scoped>\n",
       "    .dataframe tbody tr th:only-of-type {\n",
       "        vertical-align: middle;\n",
       "    }\n",
       "\n",
       "    .dataframe tbody tr th {\n",
       "        vertical-align: top;\n",
       "    }\n",
       "\n",
       "    .dataframe thead th {\n",
       "        text-align: right;\n",
       "    }\n",
       "</style>\n",
       "<table border=\"1\" class=\"dataframe\">\n",
       "  <thead>\n",
       "    <tr style=\"text-align: right;\">\n",
       "      <th></th>\n",
       "      <th>age</th>\n",
       "      <th>exercise</th>\n",
       "      <th>hours</th>\n",
       "      <th>grade</th>\n",
       "      <th>gender_male</th>\n",
       "    </tr>\n",
       "  </thead>\n",
       "  <tbody>\n",
       "    <tr>\n",
       "      <td>0</td>\n",
       "      <td>17</td>\n",
       "      <td>3</td>\n",
       "      <td>10</td>\n",
       "      <td>82.4</td>\n",
       "      <td>0</td>\n",
       "    </tr>\n",
       "    <tr>\n",
       "      <td>1</td>\n",
       "      <td>18</td>\n",
       "      <td>4</td>\n",
       "      <td>4</td>\n",
       "      <td>78.2</td>\n",
       "      <td>1</td>\n",
       "    </tr>\n",
       "    <tr>\n",
       "      <td>2</td>\n",
       "      <td>18</td>\n",
       "      <td>5</td>\n",
       "      <td>9</td>\n",
       "      <td>79.3</td>\n",
       "      <td>1</td>\n",
       "    </tr>\n",
       "    <tr>\n",
       "      <td>3</td>\n",
       "      <td>14</td>\n",
       "      <td>2</td>\n",
       "      <td>7</td>\n",
       "      <td>83.2</td>\n",
       "      <td>0</td>\n",
       "    </tr>\n",
       "    <tr>\n",
       "      <td>4</td>\n",
       "      <td>18</td>\n",
       "      <td>4</td>\n",
       "      <td>15</td>\n",
       "      <td>87.4</td>\n",
       "      <td>0</td>\n",
       "    </tr>\n",
       "  </tbody>\n",
       "</table>\n",
       "</div>"
      ],
      "text/plain": [
       "   age  exercise  hours  grade  gender_male\n",
       "0   17         3     10   82.4            0\n",
       "1   18         4      4   78.2            1\n",
       "2   18         5      9   79.3            1\n",
       "3   14         2      7   83.2            0\n",
       "4   18         4     15   87.4            0"
      ]
     },
     "execution_count": 2,
     "metadata": {},
     "output_type": "execute_result"
    }
   ],
   "source": [
    "# create dummy variables for the column gender\n",
    "df = pd.get_dummies(df, columns = ['gender'], drop_first = True)\n",
    "df.head()"
   ]
  },
  {
   "cell_type": "markdown",
   "metadata": {},
   "source": [
    "***************************************\n",
    "<b>Step 3: Preparing data for linear regression</b>\n",
    "***************************************\n",
    "We will be using the sklearn library for our SML linear regression analyses. The sklearn library is a very popular machine learning library for Python. There are several functions within the general sklearn library that we will need to import before we can get started. \n",
    "\n",
    "Before we start our analyses, we need to organize our data into the proper format. Sklearn requires that we explore our dependent and independent variables seperately. To do this, we will simply create two sets of dat -- one set that includes everything BUT our dependent variable, and another that includes ONLY our dependent variable. "
   ]
  },
  {
   "cell_type": "code",
   "execution_count": 3,
   "metadata": {},
   "outputs": [],
   "source": [
    "# import the functions needed for sklearn\n",
    "from sklearn.linear_model import LinearRegression\n",
    "from sklearn.model_selection import train_test_split\n",
    "from sklearn.metrics import mean_squared_error\n",
    "import math\n",
    "\n",
    "# assign the linear regression function to a short variable name\n",
    "lm = LinearRegression()"
   ]
  },
  {
   "cell_type": "code",
   "execution_count": 4,
   "metadata": {},
   "outputs": [
    {
     "name": "stdout",
     "output_type": "stream",
     "text": [
      "0    82.4\n",
      "1    78.2\n",
      "2    79.3\n",
      "3    83.2\n",
      "4    87.4\n",
      "Name: grade, dtype: float64\n",
      "   age  exercise  hours  gender_male\n",
      "0   17         3     10            0\n",
      "1   18         4      4            1\n",
      "2   18         5      9            1\n",
      "3   14         2      7            0\n",
      "4   18         4     15            0\n"
     ]
    }
   ],
   "source": [
    "# create a dataset with only the dependent variable\n",
    "y = df['grade']\n",
    "print(y.head()) # preview the first few rows\n",
    "\n",
    "# create a dataset with only the independent variables\n",
    "X = df.drop('grade', axis = 1)\n",
    "print(X.head()) # preview the first few rows "
   ]
  },
  {
   "cell_type": "markdown",
   "metadata": {},
   "source": [
    "***************************************\n",
    "<b>Step 4: Exploring the features of your linear regression model</b>\n",
    "***************************************\n",
    "\n",
    "Sklearn allows you to view information about your model -- similar to statsmodels -- however, you have to work a little harder to see the information. Below, we are going to fit our model to our data, check the R^2 score, determine the intercept of the model, and check what our variable coefficients are. The interpretations of the information are the same -- the information is just presented differently. "
   ]
  },
  {
   "cell_type": "code",
   "execution_count": 6,
   "metadata": {},
   "outputs": [
    {
     "data": {
      "text/plain": [
       "LinearRegression(copy_X=True, fit_intercept=True, n_jobs=None, normalize=False)"
      ]
     },
     "execution_count": 6,
     "metadata": {},
     "output_type": "execute_result"
    }
   ],
   "source": [
    "# fit the linear regression function to your full data\n",
    "lm.fit(X, y)"
   ]
  },
  {
   "cell_type": "code",
   "execution_count": 7,
   "metadata": {},
   "outputs": [
    {
     "data": {
      "text/plain": [
       "0.6645580504702335"
      ]
     },
     "execution_count": 7,
     "metadata": {},
     "output_type": "execute_result"
    }
   ],
   "source": [
    "# determine the R^2 value for our full data\n",
    "lm.score(X, y)"
   ]
  },
  {
   "cell_type": "code",
   "execution_count": 8,
   "metadata": {},
   "outputs": [
    {
     "data": {
      "text/plain": [
       "58.08744547305868"
      ]
     },
     "execution_count": 8,
     "metadata": {},
     "output_type": "execute_result"
    }
   ],
   "source": [
    "# determine the y-intercept/constant\n",
    "lm.intercept_"
   ]
  },
  {
   "cell_type": "code",
   "execution_count": 9,
   "metadata": {},
   "outputs": [
    {
     "data": {
      "text/plain": [
       "array([ 0.04050091,  0.98413259,  1.91732377, -0.44848377])"
      ]
     },
     "execution_count": 9,
     "metadata": {},
     "output_type": "execute_result"
    }
   ],
   "source": [
    "# determine the coefficients for the independent variables\n",
    "lm.coef_"
   ]
  },
  {
   "cell_type": "code",
   "execution_count": 10,
   "metadata": {},
   "outputs": [
    {
     "data": {
      "text/html": [
       "<div>\n",
       "<style scoped>\n",
       "    .dataframe tbody tr th:only-of-type {\n",
       "        vertical-align: middle;\n",
       "    }\n",
       "\n",
       "    .dataframe tbody tr th {\n",
       "        vertical-align: top;\n",
       "    }\n",
       "\n",
       "    .dataframe thead th {\n",
       "        text-align: right;\n",
       "    }\n",
       "</style>\n",
       "<table border=\"1\" class=\"dataframe\">\n",
       "  <thead>\n",
       "    <tr style=\"text-align: right;\">\n",
       "      <th></th>\n",
       "      <th>Variable</th>\n",
       "      <th>Coefficient</th>\n",
       "    </tr>\n",
       "  </thead>\n",
       "  <tbody>\n",
       "    <tr>\n",
       "      <td>0</td>\n",
       "      <td>age</td>\n",
       "      <td>0.040501</td>\n",
       "    </tr>\n",
       "    <tr>\n",
       "      <td>1</td>\n",
       "      <td>exercise</td>\n",
       "      <td>0.984133</td>\n",
       "    </tr>\n",
       "    <tr>\n",
       "      <td>2</td>\n",
       "      <td>hours</td>\n",
       "      <td>1.917324</td>\n",
       "    </tr>\n",
       "    <tr>\n",
       "      <td>3</td>\n",
       "      <td>gender_male</td>\n",
       "      <td>-0.448484</td>\n",
       "    </tr>\n",
       "  </tbody>\n",
       "</table>\n",
       "</div>"
      ],
      "text/plain": [
       "      Variable  Coefficient\n",
       "0          age     0.040501\n",
       "1     exercise     0.984133\n",
       "2        hours     1.917324\n",
       "3  gender_male    -0.448484"
      ]
     },
     "execution_count": 10,
     "metadata": {},
     "output_type": "execute_result"
    }
   ],
   "source": [
    "# create a list of the variable names and the coefficient values\n",
    "summary = pd.DataFrame(list(zip(X.columns, lm.coef_)), columns = [\"Variable\", \"Coefficient\"])\n",
    "summary"
   ]
  },
  {
   "cell_type": "code",
   "execution_count": 11,
   "metadata": {},
   "outputs": [
    {
     "data": {
      "text/html": [
       "<table class=\"simpletable\">\n",
       "<caption>OLS Regression Results</caption>\n",
       "<tr>\n",
       "  <th>Dep. Variable:</th>          <td>grade</td>      <th>  R-squared:         </th> <td>   0.665</td> \n",
       "</tr>\n",
       "<tr>\n",
       "  <th>Model:</th>                   <td>OLS</td>       <th>  Adj. R-squared:    </th> <td>   0.664</td> \n",
       "</tr>\n",
       "<tr>\n",
       "  <th>Method:</th>             <td>Least Squares</td>  <th>  F-statistic:       </th> <td>   988.1</td> \n",
       "</tr>\n",
       "<tr>\n",
       "  <th>Date:</th>             <td>Sat, 14 Nov 2020</td> <th>  Prob (F-statistic):</th>  <td>  0.00</td>  \n",
       "</tr>\n",
       "<tr>\n",
       "  <th>Time:</th>                 <td>13:53:01</td>     <th>  Log-Likelihood:    </th> <td> -6299.1</td> \n",
       "</tr>\n",
       "<tr>\n",
       "  <th>No. Observations:</th>      <td>  2000</td>      <th>  AIC:               </th> <td>1.261e+04</td>\n",
       "</tr>\n",
       "<tr>\n",
       "  <th>Df Residuals:</th>          <td>  1995</td>      <th>  BIC:               </th> <td>1.264e+04</td>\n",
       "</tr>\n",
       "<tr>\n",
       "  <th>Df Model:</th>              <td>     4</td>      <th>                     </th>     <td> </td>    \n",
       "</tr>\n",
       "<tr>\n",
       "  <th>Covariance Type:</th>      <td>nonrobust</td>    <th>                     </th>     <td> </td>    \n",
       "</tr>\n",
       "</table>\n",
       "<table class=\"simpletable\">\n",
       "<tr>\n",
       "       <td></td>          <th>coef</th>     <th>std err</th>      <th>t</th>      <th>P>|t|</th>  <th>[0.025</th>    <th>0.975]</th>  \n",
       "</tr>\n",
       "<tr>\n",
       "  <th>Intercept</th>   <td>   58.0874</td> <td>    1.326</td> <td>   43.804</td> <td> 0.000</td> <td>   55.487</td> <td>   60.688</td>\n",
       "</tr>\n",
       "<tr>\n",
       "  <th>age</th>         <td>    0.0405</td> <td>    0.075</td> <td>    0.543</td> <td> 0.587</td> <td>   -0.106</td> <td>    0.187</td>\n",
       "</tr>\n",
       "<tr>\n",
       "  <th>exercise</th>    <td>    0.9841</td> <td>    0.089</td> <td>   11.073</td> <td> 0.000</td> <td>    0.810</td> <td>    1.158</td>\n",
       "</tr>\n",
       "<tr>\n",
       "  <th>hours</th>       <td>    1.9173</td> <td>    0.031</td> <td>   61.617</td> <td> 0.000</td> <td>    1.856</td> <td>    1.978</td>\n",
       "</tr>\n",
       "<tr>\n",
       "  <th>gender_male</th> <td>   -0.4485</td> <td>    0.253</td> <td>   -1.773</td> <td> 0.076</td> <td>   -0.944</td> <td>    0.047</td>\n",
       "</tr>\n",
       "</table>\n",
       "<table class=\"simpletable\">\n",
       "<tr>\n",
       "  <th>Omnibus:</th>       <td>325.522</td> <th>  Durbin-Watson:     </th> <td>   2.048</td>\n",
       "</tr>\n",
       "<tr>\n",
       "  <th>Prob(Omnibus):</th> <td> 0.000</td>  <th>  Jarque-Bera (JB):  </th> <td>2284.723</td>\n",
       "</tr>\n",
       "<tr>\n",
       "  <th>Skew:</th>          <td>-0.569</td>  <th>  Prob(JB):          </th> <td>    0.00</td>\n",
       "</tr>\n",
       "<tr>\n",
       "  <th>Kurtosis:</th>      <td> 8.111</td>  <th>  Cond. No.          </th> <td>    214.</td>\n",
       "</tr>\n",
       "</table><br/><br/>Warnings:<br/>[1] Standard Errors assume that the covariance matrix of the errors is correctly specified."
      ],
      "text/plain": [
       "<class 'statsmodels.iolib.summary.Summary'>\n",
       "\"\"\"\n",
       "                            OLS Regression Results                            \n",
       "==============================================================================\n",
       "Dep. Variable:                  grade   R-squared:                       0.665\n",
       "Model:                            OLS   Adj. R-squared:                  0.664\n",
       "Method:                 Least Squares   F-statistic:                     988.1\n",
       "Date:                Sat, 14 Nov 2020   Prob (F-statistic):               0.00\n",
       "Time:                        13:53:01   Log-Likelihood:                -6299.1\n",
       "No. Observations:                2000   AIC:                         1.261e+04\n",
       "Df Residuals:                    1995   BIC:                         1.264e+04\n",
       "Df Model:                           4                                         \n",
       "Covariance Type:            nonrobust                                         \n",
       "===============================================================================\n",
       "                  coef    std err          t      P>|t|      [0.025      0.975]\n",
       "-------------------------------------------------------------------------------\n",
       "Intercept      58.0874      1.326     43.804      0.000      55.487      60.688\n",
       "age             0.0405      0.075      0.543      0.587      -0.106       0.187\n",
       "exercise        0.9841      0.089     11.073      0.000       0.810       1.158\n",
       "hours           1.9173      0.031     61.617      0.000       1.856       1.978\n",
       "gender_male    -0.4485      0.253     -1.773      0.076      -0.944       0.047\n",
       "==============================================================================\n",
       "Omnibus:                      325.522   Durbin-Watson:                   2.048\n",
       "Prob(Omnibus):                  0.000   Jarque-Bera (JB):             2284.723\n",
       "Skew:                          -0.569   Prob(JB):                         0.00\n",
       "Kurtosis:                       8.111   Cond. No.                         214.\n",
       "==============================================================================\n",
       "\n",
       "Warnings:\n",
       "[1] Standard Errors assume that the covariance matrix of the errors is correctly specified.\n",
       "\"\"\""
      ]
     },
     "execution_count": 11,
     "metadata": {},
     "output_type": "execute_result"
    }
   ],
   "source": [
    "## sklearn does not have direct functionality to calculate p-values\n",
    "## you can use output from the statsmodels library to determine the p-values of each variable\n",
    "\n",
    "result = smf.ols('grade ~ age + exercise + hours + gender_male', data = df).fit()\n",
    "result.summary()"
   ]
  },
  {
   "cell_type": "markdown",
   "metadata": {},
   "source": [
    "***************************************\n",
    "<b>Step 5: Splitting data into training and testing sets</b>\n",
    "***************************************\n",
    "\n",
    "We've determined the relationship between our variables, but now we want to train and test our model to be able to accurately predict our outcome variable. Before we train and test, we have to split our data into four seperate groups:\n",
    "\n",
    "* <b>Subset of Training Data for Independent Variables (X_train)</b>: this is a dataset that includes only the independent variables and is a larger randomized percentage of the original dataset\n",
    "* <b>Subset of Training Data for Dependent Variable (y_train)</b>: this is a dataset that includes only the dependent variable and is a larger randomized percentage of the original dataset\n",
    "* <b>Subset of Testing Data for Independent Variables (X_test)</b>: this is a dataset that includes only the independent variables and is a smaller randomized percentage of the original dataset\n",
    "* <b>Subset of Testing Data for Dependent Variable (y_test)</b>: this is a dataset that includes only the dependent variable and is a smaller randomized percentage of the original dataset\n",
    "\n",
    "We split our data so we can use some of our data to train our model (i.e expose our model to the patterns in our data) and use the remainder of our data to test how well our model learned from the training data. Your dataset will be divided randomly into the training and testing sets -- the training dataset will always be the larger percentage of your data. \n",
    "\n",
    "Splitting our dataset is made much easier with the <b>train_test_split function</b> that we imported from the sklearn library. "
   ]
  },
  {
   "cell_type": "code",
   "execution_count": 12,
   "metadata": {
    "scrolled": true
   },
   "outputs": [
    {
     "name": "stdout",
     "output_type": "stream",
     "text": [
      "(1340, 4)\n",
      "(1340,)\n",
      "(660, 4)\n",
      "(660,)\n"
     ]
    }
   ],
   "source": [
    "X_train, X_test, y_train, y_test = train_test_split(X, y, test_size=0.33, random_state=1)\n",
    "\n",
    "print(X_train.shape)\n",
    "print(y_train.shape)\n",
    "print(X_test.shape)\n",
    "print(y_test.shape)"
   ]
  },
  {
   "cell_type": "code",
   "execution_count": 13,
   "metadata": {},
   "outputs": [
    {
     "data": {
      "text/plain": [
       "1037     64.9\n",
       "664      32.0\n",
       "813      70.8\n",
       "1269    100.0\n",
       "1848     99.3\n",
       "Name: grade, dtype: float64"
      ]
     },
     "execution_count": 13,
     "metadata": {},
     "output_type": "execute_result"
    }
   ],
   "source": [
    "y_train.head()"
   ]
  },
  {
   "cell_type": "markdown",
   "metadata": {},
   "source": [
    "***************************************\n",
    "<b>Step 6: Training linear regression model</b>\n",
    "***************************************\n",
    "\n",
    "Training your model is so simple - all you have to do is fit a Linear Regression function to our training data -- the key is to explose the model to BOTH the independent variables and the dependent variable. We are basically showing the model: we have a female student who is 17 years old, exercises 4 hours per week, and studies 5 hours per week and received a final grade of 65.... \n",
    "\n",
    "Once we do this for all the rows in our dataset, we are going to test the model by providing it all the information about the independent variables but not the outcome: we have a male student who is 19 years old, exercises 6 hours per week, and studies 3 hours per week -- what final grade do you predict this student will receive?"
   ]
  },
  {
   "cell_type": "code",
   "execution_count": 14,
   "metadata": {
    "scrolled": true
   },
   "outputs": [
    {
     "data": {
      "text/plain": [
       "LinearRegression(copy_X=True, fit_intercept=True, n_jobs=None, normalize=False)"
      ]
     },
     "execution_count": 14,
     "metadata": {},
     "output_type": "execute_result"
    }
   ],
   "source": [
    "lm.fit(X_train, y_train)"
   ]
  },
  {
   "cell_type": "markdown",
   "metadata": {},
   "source": [
    "***************************************\n",
    "<b>Step 7: Testing linear regression model</b>\n",
    "***************************************\n",
    "\n",
    "Testing our model requires us to show our model the subset of testing data and ask it to make predictions based on this data. In this case, we are specifically showing the model the students age, gender, hours of exercise and study and asking the model to predict what it thinks that students final grade is. "
   ]
  },
  {
   "cell_type": "code",
   "execution_count": 15,
   "metadata": {},
   "outputs": [
    {
     "data": {
      "text/html": [
       "<div>\n",
       "<style scoped>\n",
       "    .dataframe tbody tr th:only-of-type {\n",
       "        vertical-align: middle;\n",
       "    }\n",
       "\n",
       "    .dataframe tbody tr th {\n",
       "        vertical-align: top;\n",
       "    }\n",
       "\n",
       "    .dataframe thead th {\n",
       "        text-align: right;\n",
       "    }\n",
       "</style>\n",
       "<table border=\"1\" class=\"dataframe\">\n",
       "  <thead>\n",
       "    <tr style=\"text-align: right;\">\n",
       "      <th></th>\n",
       "      <th>actual</th>\n",
       "      <th>prediction</th>\n",
       "    </tr>\n",
       "  </thead>\n",
       "  <tbody>\n",
       "    <tr>\n",
       "      <td>0</td>\n",
       "      <td>91.4</td>\n",
       "      <td>95.832700</td>\n",
       "    </tr>\n",
       "    <tr>\n",
       "      <td>1</td>\n",
       "      <td>81.9</td>\n",
       "      <td>76.680998</td>\n",
       "    </tr>\n",
       "    <tr>\n",
       "      <td>2</td>\n",
       "      <td>84.5</td>\n",
       "      <td>79.078059</td>\n",
       "    </tr>\n",
       "    <tr>\n",
       "      <td>3</td>\n",
       "      <td>96.2</td>\n",
       "      <td>92.119320</td>\n",
       "    </tr>\n",
       "    <tr>\n",
       "      <td>4</td>\n",
       "      <td>66.2</td>\n",
       "      <td>65.389395</td>\n",
       "    </tr>\n",
       "  </tbody>\n",
       "</table>\n",
       "</div>"
      ],
      "text/plain": [
       "   actual  prediction\n",
       "0    91.4   95.832700\n",
       "1    81.9   76.680998\n",
       "2    84.5   79.078059\n",
       "3    96.2   92.119320\n",
       "4    66.2   65.389395"
      ]
     },
     "execution_count": 15,
     "metadata": {},
     "output_type": "execute_result"
    }
   ],
   "source": [
    "# test how well your model can predict y-values given x-values\n",
    "y_predict = lm.predict(X_test)\n",
    "\n",
    "# let's see what predictions are being made and how they compare to the actual values\n",
    "data_predict = pd.DataFrame(list(zip(y_test, y_predict)), columns = [\"actual\", \"prediction\"])\n",
    "data_predict.head()"
   ]
  },
  {
   "cell_type": "markdown",
   "metadata": {},
   "source": [
    "***************************************\n",
    "<b>Step 8: Evaluating linear regression model</b>\n",
    "***************************************\n",
    "\n",
    "Our model made some predictions about our dependent variable? Now what? The next step is to statistically evaluate how well our model was able to predict these values. We will do this by using the following metrics:\n",
    "\n",
    "* <b>Mean Squared Error (MSE)</b>: this is a measure of how closely the fitted regression line is to the actual data points. The smaller the MSE, the closer the fit is to the data. There is no golden standard for an acceptable MSE value -- typically, this value is used to compare different iterations of models (similar to using the adj R^2 to determine which models fit the data the best). You can use this value to determine which model is a better fit for your data. \n",
    "\n",
    "* <b>Root Mean Squared Error (RMSE)</b>: this is the square-root of the MSE, and is much easier to directly interpret. A well-fitting regression model results in predicted values that are close to the observed data values. The RMSE indicates how the model fits to the data -- in other words, how close the observed data points are to the model's predicted values. RSME is a good measure of how accurately the model predicts the outcome. The RMSE can be interpreted as the average difference in the observed values and the predicted values. \n",
    "\n",
    "Once you calculate these values, you can determine if you are happy with the results. If not, you should tweak your initial model, run through the training/testing process again, and determine if another model is a better fit. In some instances, the accuracy of the model is important but it isn't vital to the work you want to do with the model -- for example, a model that is designed to predict how much money a customer plans to spend in your store will still be functional if the predictions are off by $10. However, a model that predicts the rate of growth of a brain tumor -- accuracy of the predictions are going to be a lot more important.  \n",
    "***************************************\n",
    "There are many factors that may contribute to inaccuracy in your model. If you aren't satisfied with the performance of your model, there are a few changes you can make before re-fitting your model:\n",
    "\n",
    "<b>Need more data:</b> We need to have a huge amount of data to get the best possible prediction. \n",
    "\n",
    "<b>Bad assumptions:</b> We made the assumption that this data has a linear relationship, but that might not be the case. Visualizing the data may help you determine that.\n",
    "\n",
    "<b>Poor features:</b> The features we used may not have had a high enough correlation to the values we were trying to predict."
   ]
  },
  {
   "cell_type": "code",
   "execution_count": 16,
   "metadata": {},
   "outputs": [
    {
     "name": "stdout",
     "output_type": "stream",
     "text": [
      "The Mean Squared Error (MSE) of our model is: 33.47358012521237\n",
      "On average, our model is 5.785635671662395 points away from the actual grade when making predictions.\n"
     ]
    }
   ],
   "source": [
    "# calculating the Mean Squared Error (MSE)\n",
    "\n",
    "MSE = mean_squared_error(y_predict, y_test)\n",
    "print(\"The Mean Squared Error (MSE) of our model is:\",MSE)\n",
    "\n",
    "# calculating the Root Mean Squared Error (RMSE)\n",
    "\n",
    "RMSE = math.sqrt(MSE)\n",
    "print(\"On average, our model is\", RMSE, \"points away from the actual grade when making predictions.\")"
   ]
  },
  {
   "cell_type": "markdown",
   "metadata": {},
   "source": [
    "***************************************\n",
    "<b>Making predictions with linear regression model</b>\n",
    "***************************************\n",
    "\n",
    "What would be the fun of a linear regression model without the ability to make specific predictions about our data? Making predictions is very simple with the sklearn library because we can make use of the .predict() function. \n",
    "\n",
    "Before you can make predictions about your model overall, you have to re-fit the Linear Regression function to your full data (not the testing/training data). "
   ]
  },
  {
   "cell_type": "code",
   "execution_count": 17,
   "metadata": {},
   "outputs": [
    {
     "data": {
      "text/plain": [
       "array([80.90159641])"
      ]
     },
     "execution_count": 17,
     "metadata": {},
     "output_type": "execute_result"
    }
   ],
   "source": [
    "# re-fit the linear regression model to the full X and y data\n",
    "lm.fit(X,y)\n",
    "\n",
    "# in the order of your variables, list the values you want to input for each variable\n",
    "# age: 17\n",
    "# hours exercise: 3\n",
    "# hours of study: 10\n",
    "# gender-male: 0 <this means the student is a female>\n",
    "lm.predict([[17, 3, 10, 0]])"
   ]
  },
  {
   "cell_type": "code",
   "execution_count": 18,
   "metadata": {},
   "outputs": [
    {
     "data": {
      "text/html": [
       "<div>\n",
       "<style scoped>\n",
       "    .dataframe tbody tr th:only-of-type {\n",
       "        vertical-align: middle;\n",
       "    }\n",
       "\n",
       "    .dataframe tbody tr th {\n",
       "        vertical-align: top;\n",
       "    }\n",
       "\n",
       "    .dataframe thead th {\n",
       "        text-align: right;\n",
       "    }\n",
       "</style>\n",
       "<table border=\"1\" class=\"dataframe\">\n",
       "  <thead>\n",
       "    <tr style=\"text-align: right;\">\n",
       "      <th></th>\n",
       "      <th>age</th>\n",
       "      <th>exercise</th>\n",
       "      <th>hours</th>\n",
       "      <th>grade</th>\n",
       "      <th>gender_male</th>\n",
       "    </tr>\n",
       "  </thead>\n",
       "  <tbody>\n",
       "    <tr>\n",
       "      <td>0</td>\n",
       "      <td>17</td>\n",
       "      <td>3</td>\n",
       "      <td>10</td>\n",
       "      <td>82.4</td>\n",
       "      <td>0</td>\n",
       "    </tr>\n",
       "    <tr>\n",
       "      <td>1</td>\n",
       "      <td>18</td>\n",
       "      <td>4</td>\n",
       "      <td>4</td>\n",
       "      <td>78.2</td>\n",
       "      <td>1</td>\n",
       "    </tr>\n",
       "  </tbody>\n",
       "</table>\n",
       "</div>"
      ],
      "text/plain": [
       "   age  exercise  hours  grade  gender_male\n",
       "0   17         3     10   82.4            0\n",
       "1   18         4      4   78.2            1"
      ]
     },
     "execution_count": 18,
     "metadata": {},
     "output_type": "execute_result"
    }
   ],
   "source": [
    "df.head(2)"
   ]
  },
  {
   "cell_type": "markdown",
   "metadata": {},
   "source": [
    "***************************************\n",
    "<b>Next week</b>: Supervised Machine Learning and Classification with Logistic Regression\n",
    "***************************************"
   ]
  }
 ],
 "metadata": {
  "kernelspec": {
   "display_name": "Python 3",
   "language": "python",
   "name": "python3"
  },
  "language_info": {
   "codemirror_mode": {
    "name": "ipython",
    "version": 3
   },
   "file_extension": ".py",
   "mimetype": "text/x-python",
   "name": "python",
   "nbconvert_exporter": "python",
   "pygments_lexer": "ipython3",
   "version": "3.7.4"
  }
 },
 "nbformat": 4,
 "nbformat_minor": 2
}
